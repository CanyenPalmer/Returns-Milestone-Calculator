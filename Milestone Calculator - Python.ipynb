{
 "cells": [
  {
   "cell_type": "code",
   "execution_count": null,
   "id": "44755cf2",
   "metadata": {},
   "outputs": [],
   "source": [
    "import sys\n",
    "\n",
    "def calculated_wealth_by_year(current_wealth, rate_of_return, monthly_savings, years):\n",
    "    total_savings = current_wealth\n",
    "    for year in range (1, years + 1):\n",
    "        interest = total_savings * (rate_of_return/100)\n",
    "        total_savings += interest + (monthly_savings * 12)\n",
    "        print(f\"Year {year}: Total wealth = {total_savings:.2f}\")\n",
    "    return 0\n",
    "\n",
    "def calculate_years_until_milestone(current_wealth, rate_of_return, monthly_savings, target_wealth):\n",
    "    total_savings = current_wealth\n",
    "    years_to_milestone = 0\n",
    "    while True:\n",
    "        years_to_freedom +=1\n",
    "        interest = total_savings * (rate_of_return/100)\n",
    "        total_savings += interest + (monthly_savings * 12)\n",
    "        if total_savings > target_wealth:\n",
    "            print (f\"You will achieve your set milestone in {years_to_freedom} years! To accelerated this number quicker, continue to optomize processes and derive analytical insights.\")\n",
    "            return 0\n",
    "        \n",
    "def main()\n",
    "    prog = input(\"Which program are you looking to run? Type 'returns' or 'milestone' \")\n",
    "    try: \n",
    "        current_wealth = float(input(\"Enter your current wealth: \"))\n",
    "        rate_of_return = float(input(\"Enter estimated rate of return (%): \"))\n",
    "        monthly_savings = float(input(\"Enter how much you/your company save per month: \"))\n",
    "        years = int(input(\"Enter investment period (in years): \"))\n",
    "    except ValueError:\n",
    "        print(\"Invalid, only numbers are accepted as input! \")\n",
    "        sys.exit()\n",
    "    if prog == 'returns':\n",
    "        calculated_wealth_by_year(current_wealth, rate_of_return, monthly_savings, years)\n",
    "    else:\n",
    "        try:\n",
    "            target_wealth = float(input(\"How much money do you need to reach your milestone? \"))\n",
    "        except ValueError:\n",
    "            print(\"Invalid input. You must only enter integers! \")\n",
    "            sys.exit()\n",
    "        calculate_years_until_milestone(current_wealth, rate_of_return, monthly_savings, target_wealth)\n",
    "\n",
    "main()"
   ]
  }
 ],
 "metadata": {
  "language_info": {
   "name": "python"
  }
 },
 "nbformat": 4,
 "nbformat_minor": 5
}
